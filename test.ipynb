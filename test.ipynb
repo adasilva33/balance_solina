{
 "cells": [
  {
   "cell_type": "code",
   "execution_count": 1,
   "metadata": {},
   "outputs": [],
   "source": [
    "import os\n",
    "import openpyxl\n",
    "from openpyxl import load_workbook"
   ]
  },
  {
   "cell_type": "code",
   "execution_count": 2,
   "metadata": {},
   "outputs": [],
   "source": [
    "def generate_text_reports(workbook_path):\n",
    "    \"\"\"Generates text reports for all details of an Excel file.\"\"\"\n",
    "    \n",
    "    # Define the report folder\n",
    "    report_path = 'excel_reports'\n",
    "    if not os.path.exists(report_path):\n",
    "        os.makedirs(report_path)\n",
    "\n",
    "    # Load workbooks for both formulas and evaluated values\n",
    "    workbook = load_workbook(workbook_path, data_only=False)  # Formulas\n",
    "    eval_workbook = load_workbook(workbook_path, data_only=True)  # Evaluated values\n",
    "\n",
    "    # Create report files\n",
    "    formulas_file = open(os.path.join(report_path, \"formulas_and_values.txt\"), \"w\", encoding=\"utf-8\")\n",
    "    formatting_file = open(os.path.join(report_path, \"formatting.txt\"), \"w\", encoding=\"utf-8\")\n",
    "    conditional_file = open(os.path.join(report_path, \"conditional_formatting.txt\"), \"w\", encoding=\"utf-8\")\n",
    "    merged_file = open(os.path.join(report_path, \"merged_cells.txt\"), \"w\", encoding=\"utf-8\")\n",
    "    validations_file = open(os.path.join(report_path, \"data_validations.txt\"), \"w\", encoding=\"utf-8\")\n",
    "    hyperlinks_file = open(os.path.join(report_path, \"hyperlinks.txt\"), \"w\", encoding=\"utf-8\")\n",
    "\n",
    "    for sheet_name in workbook.sheetnames:\n",
    "        sheet = workbook[sheet_name]\n",
    "        eval_sheet = eval_workbook[sheet_name]\n",
    "\n",
    "        # 1. Formulas & Values\n",
    "        formulas_file.write(f\"Sheet: {sheet_name}\\n\" + \"-\" * 40 + \"\\n\")\n",
    "        for row in sheet.iter_rows():\n",
    "            for cell in row:\n",
    "                if cell.value is not None:\n",
    "                    formula = cell.value if isinstance(cell.value, str) and cell.value.startswith(\"=\") else \"\"\n",
    "                    eval_value = eval_sheet[cell.coordinate].value\n",
    "                    if formula:\n",
    "                        formulas_file.write(f\"Cell {cell.coordinate}: Formula='{formula}', Evaluated='{eval_value}'\\n\")\n",
    "        formulas_file.write(\"\\n\")\n",
    "\n",
    "        # 2. Formatting\n",
    "        formatting_file.write(f\"Sheet: {sheet_name}\\n\" + \"-\" * 40 + \"\\n\")\n",
    "        for row in sheet.iter_rows():\n",
    "            for cell in row:\n",
    "                if cell.value is not None:\n",
    "                    font = cell.font\n",
    "                    fill = cell.fill\n",
    "                    alignment = cell.alignment\n",
    "                    formatting_file.write(\n",
    "                        f\"Cell {cell.coordinate}: Font='{font.name}', Size={font.size}, Bold={font.bold}, Italic={font.italic}, \"\n",
    "                        f\"Font Color={font.color.rgb if font.color else 'None'}, Fill Color={fill.start_color.rgb if fill.start_color else 'None'}, \"\n",
    "                        f\"Alignment={alignment.horizontal}, Number Format='{cell.number_format}'\\n\"\n",
    "                    )\n",
    "        formatting_file.write(\"\\n\")\n",
    "\n",
    "        # 3. Conditional Formatting\n",
    "        conditional_file.write(f\"Sheet: {sheet_name}\\n\" + \"-\" * 40 + \"\\n\")\n",
    "        if sheet.conditional_formatting:\n",
    "            for rule in sheet.conditional_formatting:\n",
    "                conditional_file.write(f\"Rule: {rule}, Applied to: {sheet.conditional_formatting[rule]}\\n\")\n",
    "        conditional_file.write(\"\\n\")\n",
    "\n",
    "        # 4. Merged Cells\n",
    "        merged_file.write(f\"Sheet: {sheet_name}\\n\" + \"-\" * 40 + \"\\n\")\n",
    "        for merged_range in sheet.merged_cells.ranges:\n",
    "            merged_file.write(f\"Merged Range: {merged_range}\\n\")\n",
    "        merged_file.write(\"\\n\")\n",
    "\n",
    "        # 5. Data Validations\n",
    "        validations_file.write(f\"Sheet: {sheet_name}\\n\" + \"-\" * 40 + \"\\n\")\n",
    "        if sheet.data_validations:\n",
    "            for dv in sheet.data_validations.dataValidation:\n",
    "                validations_file.write(f\"Range: {dv.sqref}, Formula: {dv.formula1}, Allow Type: {dv.type}, Criteria: {dv.operator}\\n\")\n",
    "        validations_file.write(\"\\n\")\n",
    "\n",
    "        # 6. Hyperlinks\n",
    "        hyperlinks_file.write(f\"Sheet: {sheet_name}\\n\" + \"-\" * 40 + \"\\n\")\n",
    "        for row in sheet.iter_rows():\n",
    "            for cell in row:\n",
    "                if cell.hyperlink:\n",
    "                    hyperlinks_file.write(f\"Cell {cell.coordinate}: Hyperlink='{cell.hyperlink.target}'\\n\")\n",
    "        hyperlinks_file.write(\"\\n\")\n",
    "\n",
    "    # Close files\n",
    "    formulas_file.close()\n",
    "    formatting_file.close()\n",
    "    conditional_file.close()\n",
    "    merged_file.close()\n",
    "    validations_file.close()\n",
    "    hyperlinks_file.close()\n",
    "\n",
    "    print(f\"Reports saved in '{report_path}' folder.\")"
   ]
  },
  {
   "cell_type": "code",
   "execution_count": 3,
   "metadata": {},
   "outputs": [],
   "source": [
    "workbook_path = \"Balance.xlsm\""
   ]
  },
  {
   "cell_type": "code",
   "execution_count": 4,
   "metadata": {},
   "outputs": [
    {
     "name": "stdout",
     "output_type": "stream",
     "text": [
      "Reports saved in 'excel_reports' folder.\n"
     ]
    }
   ],
   "source": [
    "generate_text_reports(workbook_path)"
   ]
  }
 ],
 "metadata": {
  "kernelspec": {
   "display_name": ".venv",
   "language": "python",
   "name": "python3"
  },
  "language_info": {
   "codemirror_mode": {
    "name": "ipython",
    "version": 3
   },
   "file_extension": ".py",
   "mimetype": "text/x-python",
   "name": "python",
   "nbconvert_exporter": "python",
   "pygments_lexer": "ipython3",
   "version": "3.12.7"
  }
 },
 "nbformat": 4,
 "nbformat_minor": 2
}
